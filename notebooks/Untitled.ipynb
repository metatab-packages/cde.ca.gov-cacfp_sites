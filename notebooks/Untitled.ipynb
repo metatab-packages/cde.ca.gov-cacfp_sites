{
 "cells": [
  {
   "cell_type": "code",
   "execution_count": 1,
   "metadata": {},
   "outputs": [],
   "source": [
    "import seaborn as sns\n",
    "import metapack as mp\n",
    "import pandas as pd\n",
    "import numpy as np\n",
    "import matplotlib.pyplot as plt\n",
    "from IPython.display import display, clear_output\n",
    "\n",
    "import shelve\n",
    "from  tqdm import tqdm_notebook\n",
    "import censusgeocode as cg\n",
    "\n",
    "%matplotlib inline\n",
    "sns.set_context('notebook')\n",
    "mp.jupyter.init()"
   ]
  },
  {
   "cell_type": "code",
   "execution_count": 6,
   "metadata": {},
   "outputs": [
    {
     "name": "stdout",
     "output_type": "stream",
     "text": [
      "1900 SAIPAN AVE-FIREBAUGH-CA-93622 {'request': {'street': '1900 SAIPAN AVE', 'city': 'FIREBAUGH', 'state': 'CA', 'zipcode': '93622'}, 'response': [{'matchedAddress': '1900 SAIPAN AVE, FIREBAUGH, CA, 93622', 'coordinates': {'x': -120.44585, 'y': 36.852913}, 'tigerLine': {'tigerLineId': '197550580', 'side': 'L'}, 'addressComponents': {'fromAddress': '1998', 'toAddress': '1800', 'preQualifier': '', 'preDirection': '', 'preType': '', 'streetName': 'SAIPAN', 'suffixType': 'AVE', 'suffixDirection': '', 'suffixQualifier': '', 'city': 'FIREBAUGH', 'state': 'CA', 'zip': '93622'}, 'geographies': {'2010 Census Blocks': [{'SUFFIX': '', 'GEOID': '060190084013007', 'CENTLAT': '+36.8526629', 'BLOCK': '3007', 'AREAWATER': 0, 'STATE': '06', 'BASENAME': '3007', 'OID': 210403969969562, 'LSADC': 'BK', 'FUNCSTAT': 'S', 'INTPTLAT': '+36.8526629', 'STGEOMETRY.AREA': 138679.62, 'STGEOMETRY.LEN': 1724.6649, 'NAME': 'Block 3007', 'OBJECTID': 2484703, 'TRACT': '008401', 'CENTLON': '-120.4440773', 'BLKGRP': '3', 'AREALAND': 88627, 'INTPTLON': '-120.4440773', 'MTFCC': 'G5040', 'LWBLKTYP': 'L', 'COUNTY': '019'}], 'States': [{'STATENS': '01779778', 'GEOID': '06', 'CENTLAT': '+37.1547354', 'AREAWATER': 20318933618, 'BASENAME': 'California', 'STATE': '06', 'STUSAB': 'CA', 'OID': 2749018475066, 'LSADC': '00', 'FUNCSTAT': 'A', 'INTPTLAT': '+37.1551773', 'DIVISION': '9', 'STGEOMETRY.AREA': 671894010000.0, 'STGEOMETRY.LEN': 5257989.5, 'NAME': 'California', 'REGION': '4', 'OBJECTID': 14, 'CENTLON': '-119.5277462', 'AREALAND': 403648869594, 'INTPTLON': '-119.5434183', 'MTFCC': 'G4000'}], 'Counties': [{'GEOID': '06019', 'CENTLAT': '+36.7585322', 'AREAWATER': 137345152, 'BASENAME': 'Fresno', 'STATE': '06', 'OID': 27590148916964, 'LSADC': '06', 'FUNCSTAT': 'A', 'INTPTLAT': '+36.7610058', 'STGEOMETRY.AREA': 24303183900.0, 'STGEOMETRY.LEN': 1104290.1, 'NAME': 'Fresno County', 'OBJECTID': 1826, 'CENTLON': '-119.6533680', 'COUNTYCC': 'H1', 'COUNTYNS': '00277274', 'AREALAND': 15431404089, 'INTPTLON': '-119.6550193', 'MTFCC': 'G4020', 'COUNTY': '019'}], 'Census Tracts': [{'GEOID': '06019008401', 'CENTLAT': '+36.8529045', 'AREAWATER': 143103, 'BASENAME': '84.01', 'STATE': '06', 'OID': 20790148950907, 'LSADC': 'CT', 'FUNCSTAT': 'S', 'INTPTLAT': '+36.8586926', 'STGEOMETRY.AREA': 255788816.0, 'STGEOMETRY.LEN': 82449.336, 'NAME': 'Census Tract 84.01', 'OBJECTID': 33488, 'TRACT': '008401', 'CENTLON': '-120.5051133', 'AREALAND': 163324327, 'INTPTLON': '-120.5139877', 'MTFCC': 'G5020', 'COUNTY': '019'}]}}]}\n"
     ]
    }
   ],
   "source": [
    "with shelve.open('geocoder-cache') as db:\n",
    "    for k, v in db.items():\n",
    "        if v['response']:\n",
    "            print(k, v)\n",
    "            break\n",
    "       \n",
    "        "
   ]
  },
  {
   "cell_type": "code",
   "execution_count": 8,
   "metadata": {},
   "outputs": [
    {
     "data": {
      "text/plain": [
       "({'GEOID': '06019008401',\n",
       "  'CENTLAT': '+36.8529045',\n",
       "  'AREAWATER': 143103,\n",
       "  'BASENAME': '84.01',\n",
       "  'STATE': '06',\n",
       "  'OID': 20790148950907,\n",
       "  'LSADC': 'CT',\n",
       "  'FUNCSTAT': 'S',\n",
       "  'INTPTLAT': '+36.8586926',\n",
       "  'STGEOMETRY.AREA': 255788816.0,\n",
       "  'STGEOMETRY.LEN': 82449.336,\n",
       "  'NAME': 'Census Tract 84.01',\n",
       "  'OBJECTID': 33488,\n",
       "  'TRACT': '008401',\n",
       "  'CENTLON': '-120.5051133',\n",
       "  'AREALAND': 163324327,\n",
       "  'INTPTLON': '-120.5139877',\n",
       "  'MTFCC': 'G5020',\n",
       "  'COUNTY': '019'},\n",
       " {'x': -120.44585, 'y': 36.852913})"
      ]
     },
     "execution_count": 8,
     "metadata": {},
     "output_type": "execute_result"
    }
   ],
   "source": [
    "coors = v.get('response')[0].get('coordinates')\n",
    "ct = v.get('response')[0].get('geographies').get('Census Tracts')[0]\n",
    "ct, coors"
   ]
  },
  {
   "cell_type": "code",
   "execution_count": null,
   "metadata": {},
   "outputs": [],
   "source": []
  },
  {
   "cell_type": "code",
   "execution_count": null,
   "metadata": {},
   "outputs": [],
   "source": [
    "4550 * 2.6 / 60 / 60\n"
   ]
  },
  {
   "cell_type": "code",
   "execution_count": null,
   "metadata": {},
   "outputs": [],
   "source": []
  }
 ],
 "metadata": {
  "kernelspec": {
   "display_name": "Python 3",
   "language": "python",
   "name": "python3"
  },
  "language_info": {
   "codemirror_mode": {
    "name": "ipython",
    "version": 3
   },
   "file_extension": ".py",
   "mimetype": "text/x-python",
   "name": "python",
   "nbconvert_exporter": "python",
   "pygments_lexer": "ipython3",
   "version": "3.7.3"
  }
 },
 "nbformat": 4,
 "nbformat_minor": 2
}
